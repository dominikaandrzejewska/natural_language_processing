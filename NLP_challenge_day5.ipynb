{
  "nbformat": 4,
  "nbformat_minor": 0,
  "metadata": {
    "colab": {
      "name": "NLP_challenge_day5.ipynb",
      "provenance": [],
      "collapsed_sections": [],
      "mount_file_id": "1pYbz-OVO0RpDI1lrJLr3zh7FRPtz6g3l",
      "authorship_tag": "ABX9TyPLVn4W7kC2g0i63XqjbdrF",
      "include_colab_link": true
    },
    "kernelspec": {
      "name": "python3",
      "display_name": "Python 3"
    }
  },
  "cells": [
    {
      "cell_type": "markdown",
      "metadata": {
        "id": "view-in-github",
        "colab_type": "text"
      },
      "source": [
        "<a href=\"https://colab.research.google.com/github/dominikaandrzejewska/natural_language_processing/blob/master/NLP_challenge_day5.ipynb\" target=\"_parent\"><img src=\"https://colab.research.google.com/assets/colab-badge.svg\" alt=\"Open In Colab\"/></a>"
      ]
    },
    {
      "cell_type": "code",
      "metadata": {
        "id": "i-CGDhS6pnU6",
        "colab_type": "code",
        "colab": {}
      },
      "source": [
        "import pandas as pd\n",
        "\n",
        "from gensim.utils import simple_preprocess\n",
        "from gensim.models import Doc2Vec\n",
        "from gensim.models.doc2vec import TaggedDocument\n",
        "from gensim.models.phrases import Phraser, Phrases"
      ],
      "execution_count": 0,
      "outputs": []
    },
    {
      "cell_type": "code",
      "metadata": {
        "id": "HGcMJHYarWrV",
        "colab_type": "code",
        "outputId": "ea608e08-bd31-43ef-dedd-0812aab574ab",
        "colab": {
          "base_uri": "https://localhost:8080/",
          "height": 34
        }
      },
      "source": [
        "cd '/content/drive/My Drive/Colab Notebooks/NLP/'"
      ],
      "execution_count": 4,
      "outputs": [
        {
          "output_type": "stream",
          "text": [
            "/content/drive/My Drive/Colab Notebooks/NLP\n"
          ],
          "name": "stdout"
        }
      ]
    },
    {
      "cell_type": "code",
      "metadata": {
        "id": "nRiCrOkzrGB1",
        "colab_type": "code",
        "outputId": "baae7de0-d92d-46df-e90e-3da413d204fb",
        "colab": {
          "base_uri": "https://localhost:8080/",
          "height": 34
        }
      },
      "source": [
        "df = pd.read_csv('Day4/data/job_ofer.csv')\n",
        "df.shape"
      ],
      "execution_count": 5,
      "outputs": [
        {
          "output_type": "execute_result",
          "data": {
            "text/plain": [
              "(36109, 8)"
            ]
          },
          "metadata": {
            "tags": []
          },
          "execution_count": 5
        }
      ]
    },
    {
      "cell_type": "code",
      "metadata": {
        "id": "97Sr4iICrTVK",
        "colab_type": "code",
        "outputId": "5eaeb803-41cb-4f9e-87eb-0a4e223acc1e",
        "colab": {
          "base_uri": "https://localhost:8080/",
          "height": 204
        }
      },
      "source": [
        "df.head()"
      ],
      "execution_count": 6,
      "outputs": [
        {
          "output_type": "execute_result",
          "data": {
            "text/html": [
              "<div>\n",
              "<style scoped>\n",
              "    .dataframe tbody tr th:only-of-type {\n",
              "        vertical-align: middle;\n",
              "    }\n",
              "\n",
              "    .dataframe tbody tr th {\n",
              "        vertical-align: top;\n",
              "    }\n",
              "\n",
              "    .dataframe thead th {\n",
              "        text-align: right;\n",
              "    }\n",
              "</style>\n",
              "<table border=\"1\" class=\"dataframe\">\n",
              "  <thead>\n",
              "    <tr style=\"text-align: right;\">\n",
              "      <th></th>\n",
              "      <th>title</th>\n",
              "      <th>company_name</th>\n",
              "      <th>address</th>\n",
              "      <th>description</th>\n",
              "      <th>seniority_level</th>\n",
              "      <th>employment_type</th>\n",
              "      <th>job_function</th>\n",
              "      <th>industries</th>\n",
              "    </tr>\n",
              "  </thead>\n",
              "  <tbody>\n",
              "    <tr>\n",
              "      <th>0</th>\n",
              "      <td>Machine Learning Engineer</td>\n",
              "      <td>Intellipro Group Inc</td>\n",
              "      <td>Palo Alto, CA, US</td>\n",
              "      <td>['About The Company', \"W*** is reshaping the f...</td>\n",
              "      <td>Entry level</td>\n",
              "      <td>Full-time</td>\n",
              "      <td>Engineering</td>\n",
              "      <td>Information Technology and Services</td>\n",
              "    </tr>\n",
              "    <tr>\n",
              "      <th>1</th>\n",
              "      <td>Deep Learning Applied Researcher - Chicago</td>\n",
              "      <td>Ethosia</td>\n",
              "      <td>Chicago, IL, US</td>\n",
              "      <td>['תיאור המשרה', 'Deep learning for Computer Vi...</td>\n",
              "      <td>Associate</td>\n",
              "      <td>Full-time</td>\n",
              "      <td>Other</td>\n",
              "      <td>Information Technology and Services</td>\n",
              "    </tr>\n",
              "    <tr>\n",
              "      <th>2</th>\n",
              "      <td>Machine Learning Engineer</td>\n",
              "      <td>Motorola Solutions</td>\n",
              "      <td>Chicago, IL, US</td>\n",
              "      <td>['Company Overview', 'At Motorola Solutions, w...</td>\n",
              "      <td>Entry level</td>\n",
              "      <td>Full-time</td>\n",
              "      <td>Engineering</td>\n",
              "      <td>Information Technology and Services</td>\n",
              "    </tr>\n",
              "    <tr>\n",
              "      <th>3</th>\n",
              "      <td>Machine Learning / Data Scientist</td>\n",
              "      <td>Proprius LLC</td>\n",
              "      <td>San Francisco, CA, US</td>\n",
              "      <td>['Our client is a digital invention agency foc...</td>\n",
              "      <td>Entry level</td>\n",
              "      <td>Full-time</td>\n",
              "      <td>Engineering</td>\n",
              "      <td>Information Technology and Services</td>\n",
              "    </tr>\n",
              "    <tr>\n",
              "      <th>4</th>\n",
              "      <td>Cloud Architect</td>\n",
              "      <td>TCS</td>\n",
              "      <td>Framingham, Massachusetts, United States</td>\n",
              "      <td>['Technical/Functional Skills', ' ', 'Good to ...</td>\n",
              "      <td>Mid-Senior level</td>\n",
              "      <td>Full-time</td>\n",
              "      <td>Engineering</td>\n",
              "      <td>Information Technology and Services</td>\n",
              "    </tr>\n",
              "  </tbody>\n",
              "</table>\n",
              "</div>"
            ],
            "text/plain": [
              "                                        title  ...                           industries\n",
              "0                   Machine Learning Engineer  ...  Information Technology and Services\n",
              "1  Deep Learning Applied Researcher - Chicago  ...  Information Technology and Services\n",
              "2                   Machine Learning Engineer  ...  Information Technology and Services\n",
              "3           Machine Learning / Data Scientist  ...  Information Technology and Services\n",
              "4                             Cloud Architect  ...  Information Technology and Services\n",
              "\n",
              "[5 rows x 8 columns]"
            ]
          },
          "metadata": {
            "tags": []
          },
          "execution_count": 6
        }
      ]
    },
    {
      "cell_type": "markdown",
      "metadata": {
        "id": "GYtDdCDGyKVk",
        "colab_type": "text"
      },
      "source": [
        "## Preparing the corpus"
      ]
    },
    {
      "cell_type": "code",
      "metadata": {
        "id": "mHWssqIAr0Rc",
        "colab_type": "code",
        "outputId": "0490e9b6-d744-4fbe-f648-e4c789e6aa36",
        "colab": {
          "base_uri": "https://localhost:8080/",
          "height": 221
        }
      },
      "source": [
        "title_corpus = df['title'].map(simple_preprocess)\n",
        "title_corpus"
      ],
      "execution_count": 7,
      "outputs": [
        {
          "output_type": "execute_result",
          "data": {
            "text/plain": [
              "0                            [machine, learning, engineer]\n",
              "1           [deep, learning, applied, researcher, chicago]\n",
              "2                            [machine, learning, engineer]\n",
              "3                     [machine, learning, data, scientist]\n",
              "4                                       [cloud, architect]\n",
              "                               ...                        \n",
              "36104    [cdl, drivers, hauling, to, canada, no, touch,...\n",
              "36105    [research, scientist, human, computer, interac...\n",
              "36106    [clinical, post, market, surveillance, special...\n",
              "36107    [excellent, teaching, opportunity, in, china, ...\n",
              "36108                [assistant, director, talent, culure]\n",
              "Name: title, Length: 36109, dtype: object"
            ]
          },
          "metadata": {
            "tags": []
          },
          "execution_count": 7
        }
      ]
    },
    {
      "cell_type": "code",
      "metadata": {
        "id": "dS0Z9Sb_ucJ9",
        "colab_type": "code",
        "colab": {}
      },
      "source": [
        "title_tagged = [TaggedDocument(words=sent,tags=[i]) for i,sent in enumerate(title_corpus)]"
      ],
      "execution_count": 0,
      "outputs": []
    },
    {
      "cell_type": "code",
      "metadata": {
        "id": "7SWBcJifsE2J",
        "colab_type": "code",
        "colab": {}
      },
      "source": [
        "title_model = Doc2Vec(vector_size=300, window_size=5, min_count=1)\n",
        "title_model.build_vocab(title_tagged)"
      ],
      "execution_count": 0,
      "outputs": []
    },
    {
      "cell_type": "code",
      "metadata": {
        "id": "njYt70q0vWJ5",
        "colab_type": "code",
        "colab": {
          "base_uri": "https://localhost:8080/",
          "height": 51
        },
        "outputId": "18e959c0-0f44-45ea-9ceb-bb9e35109119"
      },
      "source": [
        "%time title_model.train(title_tagged, total_examples=title_model.corpus_count, epochs=10)"
      ],
      "execution_count": 16,
      "outputs": [
        {
          "output_type": "stream",
          "text": [
            "CPU times: user 47 s, sys: 10.3 s, total: 57.3 s\n",
            "Wall time: 45.1 s\n"
          ],
          "name": "stdout"
        }
      ]
    },
    {
      "cell_type": "markdown",
      "metadata": {
        "id": "4dLpEGBLxBYB",
        "colab_type": "text"
      },
      "source": [
        "Checking the accuracy of the model..."
      ]
    },
    {
      "cell_type": "code",
      "metadata": {
        "id": "eWkO1BXDvqpH",
        "colab_type": "code",
        "colab": {
          "base_uri": "https://localhost:8080/",
          "height": 241
        },
        "outputId": "78ca8fc7-2249-4db6-e0a4-1dde78361ad8"
      },
      "source": [
        "title_model.docvecs.most_similar(0) "
      ],
      "execution_count": 17,
      "outputs": [
        {
          "output_type": "stream",
          "text": [
            "/usr/local/lib/python3.6/dist-packages/gensim/matutils.py:737: FutureWarning: Conversion of the second argument of issubdtype from `int` to `np.signedinteger` is deprecated. In future, it will be treated as `np.int64 == np.dtype(int).type`.\n",
            "  if np.issubdtype(vec.dtype, np.int):\n"
          ],
          "name": "stderr"
        },
        {
          "output_type": "execute_result",
          "data": {
            "text/plain": [
              "[(32108, 0.9345694780349731),\n",
              " (322, 0.9335819482803345),\n",
              " (316, 0.9316465258598328),\n",
              " (7475, 0.9314996600151062),\n",
              " (33067, 0.9309027791023254),\n",
              " (12511, 0.9290573000907898),\n",
              " (341, 0.9285135269165039),\n",
              " (13710, 0.927718460559845),\n",
              " (34424, 0.9272338151931763),\n",
              " (12073, 0.9255372881889343)]"
            ]
          },
          "metadata": {
            "tags": []
          },
          "execution_count": 17
        }
      ]
    },
    {
      "cell_type": "code",
      "metadata": {
        "id": "TY4q1l98wQnk",
        "colab_type": "code",
        "colab": {
          "base_uri": "https://localhost:8080/",
          "height": 51
        },
        "outputId": "24ce6a26-5b17-4fc6-ae00-3802f936ff7d"
      },
      "source": [
        "df[df.index==0].title # <== looking for most similar job titles to this one"
      ],
      "execution_count": 22,
      "outputs": [
        {
          "output_type": "execute_result",
          "data": {
            "text/plain": [
              "0    Machine Learning Engineer\n",
              "Name: title, dtype: object"
            ]
          },
          "metadata": {
            "tags": []
          },
          "execution_count": 22
        }
      ]
    },
    {
      "cell_type": "code",
      "metadata": {
        "id": "MGaFsGQIxKs9",
        "colab_type": "code",
        "colab": {
          "base_uri": "https://localhost:8080/",
          "height": 51
        },
        "outputId": "13744c48-bd9f-444a-a94a-63cc5a8361d5"
      },
      "source": [
        "df[df.index==32108].title # <== the first one is not similar at all"
      ],
      "execution_count": 24,
      "outputs": [
        {
          "output_type": "execute_result",
          "data": {
            "text/plain": [
              "32108    Janitor/Porter (Overnight)\n",
              "Name: title, dtype: object"
            ]
          },
          "metadata": {
            "tags": []
          },
          "execution_count": 24
        }
      ]
    },
    {
      "cell_type": "code",
      "metadata": {
        "id": "Cwx0C7M3wVpR",
        "colab_type": "code",
        "colab": {
          "base_uri": "https://localhost:8080/",
          "height": 51
        },
        "outputId": "f8c7dcf9-bed8-4e8e-dc3e-af1fa1960272"
      },
      "source": [
        "df[df.index==322].title # <== the second is much more similar"
      ],
      "execution_count": 25,
      "outputs": [
        {
          "output_type": "execute_result",
          "data": {
            "text/plain": [
              "322    Machine Learning Scientist\n",
              "Name: title, dtype: object"
            ]
          },
          "metadata": {
            "tags": []
          },
          "execution_count": 25
        }
      ]
    },
    {
      "cell_type": "code",
      "metadata": {
        "id": "RHqt9BZ8wfVN",
        "colab_type": "code",
        "colab": {}
      },
      "source": [
        ""
      ],
      "execution_count": 0,
      "outputs": []
    }
  ]
}