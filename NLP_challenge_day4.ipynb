{
  "nbformat": 4,
  "nbformat_minor": 0,
  "metadata": {
    "colab": {
      "name": "NLP_challenge_day4.ipynb",
      "provenance": [],
      "collapsed_sections": [],
      "mount_file_id": "1n-hgBwvYowirsnczKVdxry_JQuOoxEpM",
      "authorship_tag": "ABX9TyNibeAFOOAaaeWx0FynvN75",
      "include_colab_link": true
    },
    "kernelspec": {
      "name": "python3",
      "display_name": "Python 3"
    }
  },
  "cells": [
    {
      "cell_type": "markdown",
      "metadata": {
        "id": "view-in-github",
        "colab_type": "text"
      },
      "source": [
        "<a href=\"https://colab.research.google.com/github/dominikaandrzejewska/natural_language_processing/blob/master/NLP_challenge_day4.ipynb\" target=\"_parent\"><img src=\"https://colab.research.google.com/assets/colab-badge.svg\" alt=\"Open In Colab\"/></a>"
      ]
    },
    {
      "cell_type": "code",
      "metadata": {
        "id": "I_GiJRn0U7XS",
        "colab_type": "code",
        "colab": {}
      },
      "source": [
        "import pandas as pd\n",
        "\n",
        "from gensim.models import Word2Vec\n",
        "from gensim.utils import simple_preprocess\n",
        "\n",
        "from gensim.models.phrases import Phrases, Phraser\n",
        "from ast import literal_eval"
      ],
      "execution_count": 0,
      "outputs": []
    },
    {
      "cell_type": "code",
      "metadata": {
        "id": "AdCcN2hEd4YK",
        "colab_type": "code",
        "outputId": "85465735-f16f-4424-fdd8-5e07bb5da47c",
        "colab": {
          "base_uri": "https://localhost:8080/",
          "height": 34
        }
      },
      "source": [
        "df = pd.read_csv('data/job_ofer.csv')\n",
        "df.shape"
      ],
      "execution_count": 0,
      "outputs": [
        {
          "output_type": "execute_result",
          "data": {
            "text/plain": [
              "(36109, 8)"
            ]
          },
          "metadata": {
            "tags": []
          },
          "execution_count": 9
        }
      ]
    },
    {
      "cell_type": "code",
      "metadata": {
        "id": "tRUE2WI7ePRG",
        "colab_type": "code",
        "outputId": "0734f355-5bdf-493d-9e8c-ad44f28def0a",
        "colab": {
          "base_uri": "https://localhost:8080/",
          "height": 204
        }
      },
      "source": [
        "df.head()"
      ],
      "execution_count": 0,
      "outputs": [
        {
          "output_type": "execute_result",
          "data": {
            "text/html": [
              "<div>\n",
              "<style scoped>\n",
              "    .dataframe tbody tr th:only-of-type {\n",
              "        vertical-align: middle;\n",
              "    }\n",
              "\n",
              "    .dataframe tbody tr th {\n",
              "        vertical-align: top;\n",
              "    }\n",
              "\n",
              "    .dataframe thead th {\n",
              "        text-align: right;\n",
              "    }\n",
              "</style>\n",
              "<table border=\"1\" class=\"dataframe\">\n",
              "  <thead>\n",
              "    <tr style=\"text-align: right;\">\n",
              "      <th></th>\n",
              "      <th>title</th>\n",
              "      <th>company_name</th>\n",
              "      <th>address</th>\n",
              "      <th>description</th>\n",
              "      <th>seniority_level</th>\n",
              "      <th>employment_type</th>\n",
              "      <th>job_function</th>\n",
              "      <th>industries</th>\n",
              "    </tr>\n",
              "  </thead>\n",
              "  <tbody>\n",
              "    <tr>\n",
              "      <th>0</th>\n",
              "      <td>Machine Learning Engineer</td>\n",
              "      <td>Intellipro Group Inc</td>\n",
              "      <td>Palo Alto, CA, US</td>\n",
              "      <td>['About The Company', \"W*** is reshaping the f...</td>\n",
              "      <td>Entry level</td>\n",
              "      <td>Full-time</td>\n",
              "      <td>Engineering</td>\n",
              "      <td>Information Technology and Services</td>\n",
              "    </tr>\n",
              "    <tr>\n",
              "      <th>1</th>\n",
              "      <td>Deep Learning Applied Researcher - Chicago</td>\n",
              "      <td>Ethosia</td>\n",
              "      <td>Chicago, IL, US</td>\n",
              "      <td>['תיאור המשרה', 'Deep learning for Computer Vi...</td>\n",
              "      <td>Associate</td>\n",
              "      <td>Full-time</td>\n",
              "      <td>Other</td>\n",
              "      <td>Information Technology and Services</td>\n",
              "    </tr>\n",
              "    <tr>\n",
              "      <th>2</th>\n",
              "      <td>Machine Learning Engineer</td>\n",
              "      <td>Motorola Solutions</td>\n",
              "      <td>Chicago, IL, US</td>\n",
              "      <td>['Company Overview', 'At Motorola Solutions, w...</td>\n",
              "      <td>Entry level</td>\n",
              "      <td>Full-time</td>\n",
              "      <td>Engineering</td>\n",
              "      <td>Information Technology and Services</td>\n",
              "    </tr>\n",
              "    <tr>\n",
              "      <th>3</th>\n",
              "      <td>Machine Learning / Data Scientist</td>\n",
              "      <td>Proprius LLC</td>\n",
              "      <td>San Francisco, CA, US</td>\n",
              "      <td>['Our client is a digital invention agency foc...</td>\n",
              "      <td>Entry level</td>\n",
              "      <td>Full-time</td>\n",
              "      <td>Engineering</td>\n",
              "      <td>Information Technology and Services</td>\n",
              "    </tr>\n",
              "    <tr>\n",
              "      <th>4</th>\n",
              "      <td>Cloud Architect</td>\n",
              "      <td>TCS</td>\n",
              "      <td>Framingham, Massachusetts, United States</td>\n",
              "      <td>['Technical/Functional Skills', ' ', 'Good to ...</td>\n",
              "      <td>Mid-Senior level</td>\n",
              "      <td>Full-time</td>\n",
              "      <td>Engineering</td>\n",
              "      <td>Information Technology and Services</td>\n",
              "    </tr>\n",
              "  </tbody>\n",
              "</table>\n",
              "</div>"
            ],
            "text/plain": [
              "                                        title  ...                           industries\n",
              "0                   Machine Learning Engineer  ...  Information Technology and Services\n",
              "1  Deep Learning Applied Researcher - Chicago  ...  Information Technology and Services\n",
              "2                   Machine Learning Engineer  ...  Information Technology and Services\n",
              "3           Machine Learning / Data Scientist  ...  Information Technology and Services\n",
              "4                             Cloud Architect  ...  Information Technology and Services\n",
              "\n",
              "[5 rows x 8 columns]"
            ]
          },
          "metadata": {
            "tags": []
          },
          "execution_count": 11
        }
      ]
    },
    {
      "cell_type": "markdown",
      "metadata": {
        "id": "e7x-ePBueguR",
        "colab_type": "text"
      },
      "source": [
        "## Word2Vec"
      ]
    },
    {
      "cell_type": "code",
      "metadata": {
        "id": "Yf_JiVwgeaA6",
        "colab_type": "code",
        "colab": {}
      },
      "source": [
        "corpus = df['title'].map(simple_preprocess)"
      ],
      "execution_count": 0,
      "outputs": []
    },
    {
      "cell_type": "code",
      "metadata": {
        "id": "uDiT8YVHev0Y",
        "colab_type": "code",
        "outputId": "0d7d4f56-2d80-4353-86e3-28261fee1a25",
        "colab": {
          "base_uri": "https://localhost:8080/",
          "height": 221
        }
      },
      "source": [
        "corpus"
      ],
      "execution_count": 0,
      "outputs": [
        {
          "output_type": "execute_result",
          "data": {
            "text/plain": [
              "0                            [machine, learning, engineer]\n",
              "1           [deep, learning, applied, researcher, chicago]\n",
              "2                            [machine, learning, engineer]\n",
              "3                     [machine, learning, data, scientist]\n",
              "4                                       [cloud, architect]\n",
              "                               ...                        \n",
              "36104    [cdl, drivers, hauling, to, canada, no, touch,...\n",
              "36105    [research, scientist, human, computer, interac...\n",
              "36106    [clinical, post, market, surveillance, special...\n",
              "36107    [excellent, teaching, opportunity, in, china, ...\n",
              "36108                [assistant, director, talent, culure]\n",
              "Name: title, Length: 36109, dtype: object"
            ]
          },
          "metadata": {
            "tags": []
          },
          "execution_count": 14
        }
      ]
    },
    {
      "cell_type": "code",
      "metadata": {
        "id": "X_TEGw5sexAk",
        "colab_type": "code",
        "colab": {}
      },
      "source": [
        "model = Word2Vec(corpus, size=100, window=2, min_count=1)"
      ],
      "execution_count": 0,
      "outputs": []
    },
    {
      "cell_type": "code",
      "metadata": {
        "id": "wOnZ1ko4e5MF",
        "colab_type": "code",
        "outputId": "e2c58abf-6106-4bfa-f3e5-880ea576d54d",
        "colab": {
          "base_uri": "https://localhost:8080/",
          "height": 275
        }
      },
      "source": [
        "model.most_similar('machine')"
      ],
      "execution_count": 0,
      "outputs": [
        {
          "output_type": "stream",
          "text": [
            "/usr/local/lib/python3.6/dist-packages/ipykernel_launcher.py:1: DeprecationWarning: Call to deprecated `most_similar` (Method will be removed in 4.0.0, use self.wv.most_similar() instead).\n",
            "  \"\"\"Entry point for launching an IPython kernel.\n",
            "/usr/local/lib/python3.6/dist-packages/gensim/matutils.py:737: FutureWarning: Conversion of the second argument of issubdtype from `int` to `np.signedinteger` is deprecated. In future, it will be treated as `np.int64 == np.dtype(int).type`.\n",
            "  if np.issubdtype(vec.dtype, np.int):\n"
          ],
          "name": "stderr"
        },
        {
          "output_type": "execute_result",
          "data": {
            "text/plain": [
              "[('deep', 0.9603331685066223),\n",
              " ('captivate', 0.87220299243927),\n",
              " ('big', 0.8688188791275024),\n",
              " ('edge', 0.8640769124031067),\n",
              " ('inference', 0.8616002798080444),\n",
              " ('predictive', 0.8422577381134033),\n",
              " ('scientist', 0.826292872428894),\n",
              " ('platform', 0.8255596160888672),\n",
              " ('artificial', 0.8210171461105347),\n",
              " ('computer', 0.8161062002182007)]"
            ]
          },
          "metadata": {
            "tags": []
          },
          "execution_count": 16
        }
      ]
    },
    {
      "cell_type": "markdown",
      "metadata": {
        "id": "5MmjawcOfjdg",
        "colab_type": "text"
      },
      "source": [
        "## Example"
      ]
    },
    {
      "cell_type": "code",
      "metadata": {
        "id": "HqeKtJSde8pE",
        "colab_type": "code",
        "outputId": "14cf3b9d-11c7-4f7b-a688-5612b0ea0f2f",
        "colab": {
          "base_uri": "https://localhost:8080/",
          "height": 34
        }
      },
      "source": [
        "corpus = [['machine','learning','c'],\n",
        "          ['machine','learning','x'],\n",
        "          ['y','machine','learning','w'],\n",
        "          ['q','machine','learning','u','k']\n",
        "]\n",
        "\n",
        "bigram = Phraser( Phrases(corpus, min_count=1, threshold=1) )\n",
        "\n",
        "bigram[['k','machine','learning','c']]"
      ],
      "execution_count": 0,
      "outputs": [
        {
          "output_type": "execute_result",
          "data": {
            "text/plain": [
              "['k', 'machine_learning', 'c']"
            ]
          },
          "metadata": {
            "tags": []
          },
          "execution_count": 22
        }
      ]
    },
    {
      "cell_type": "markdown",
      "metadata": {
        "id": "R_HIAL4ng0P3",
        "colab_type": "text"
      },
      "source": [
        "## Title + phrases"
      ]
    },
    {
      "cell_type": "code",
      "metadata": {
        "id": "nWtGjuGEgspO",
        "colab_type": "code",
        "colab": {}
      },
      "source": [
        "title_corpus = df['title'].map(simple_preprocess)\n",
        "\n",
        "title_bigram = Phraser( Phrases(title_corpus, min_count=1, threshold=1) )"
      ],
      "execution_count": 0,
      "outputs": []
    },
    {
      "cell_type": "code",
      "metadata": {
        "id": "7uAJPlLjg8b_",
        "colab_type": "code",
        "colab": {}
      },
      "source": [
        "title_corpus_phrases = [title_bigram[sent] for sent in title_corpus]\n",
        "model = Word2Vec(title_corpus_phrases, size=100, window=2, min_count=1)"
      ],
      "execution_count": 0,
      "outputs": []
    },
    {
      "cell_type": "code",
      "metadata": {
        "id": "GP31S6ichtnk",
        "colab_type": "code",
        "outputId": "48de35e5-d975-4dfe-d3d1-d62dd25562e2",
        "colab": {
          "base_uri": "https://localhost:8080/",
          "height": 275
        }
      },
      "source": [
        "model.most_similar('machine')"
      ],
      "execution_count": 0,
      "outputs": [
        {
          "output_type": "stream",
          "text": [
            "/usr/local/lib/python3.6/dist-packages/ipykernel_launcher.py:1: DeprecationWarning: Call to deprecated `most_similar` (Method will be removed in 4.0.0, use self.wv.most_similar() instead).\n",
            "  \"\"\"Entry point for launching an IPython kernel.\n",
            "/usr/local/lib/python3.6/dist-packages/gensim/matutils.py:737: FutureWarning: Conversion of the second argument of issubdtype from `int` to `np.signedinteger` is deprecated. In future, it will be treated as `np.int64 == np.dtype(int).type`.\n",
            "  if np.issubdtype(vec.dtype, np.int):\n"
          ],
          "name": "stderr"
        },
        {
          "output_type": "execute_result",
          "data": {
            "text/plain": [
              "[('first', 0.921218752861023),\n",
              " ('canada_orange', 0.9188756942749023),\n",
              " ('cafe', 0.9174356460571289),\n",
              " ('machine_shop', 0.9170709252357483),\n",
              " ('maine', 0.9166535139083862),\n",
              " ('executive_nw', 0.9165165424346924),\n",
              " ('make_make', 0.9154777526855469),\n",
              " ('temporary_assistant', 0.9150994420051575),\n",
              " ('security_clearance', 0.9150462746620178),\n",
              " ('examiner_bank', 0.9146639108657837)]"
            ]
          },
          "metadata": {
            "tags": []
          },
          "execution_count": 28
        }
      ]
    },
    {
      "cell_type": "code",
      "metadata": {
        "id": "nWiHqSK-hxSL",
        "colab_type": "code",
        "colab": {}
      },
      "source": [
        "def prepare_corpus(corpus,bigram):\n",
        "  for sent in corpus:\n",
        "    yield bigram[sent] + sent"
      ],
      "execution_count": 0,
      "outputs": []
    },
    {
      "cell_type": "code",
      "metadata": {
        "id": "j79MfneGisyX",
        "colab_type": "code",
        "colab": {}
      },
      "source": [
        "ext_corp = list(prepare_corpus(title_corpus,title_bigram))\n",
        "title_model = Word2Vec(ext_corp, size=100, window=2, min_count=1)"
      ],
      "execution_count": 0,
      "outputs": []
    },
    {
      "cell_type": "code",
      "metadata": {
        "id": "B0awEgqni4hN",
        "colab_type": "code",
        "outputId": "572e94ac-cb3f-4784-87d9-faa890830df7",
        "colab": {
          "base_uri": "https://localhost:8080/",
          "height": 241
        }
      },
      "source": [
        "title_model.wv.most_similar('machine')"
      ],
      "execution_count": 0,
      "outputs": [
        {
          "output_type": "stream",
          "text": [
            "/usr/local/lib/python3.6/dist-packages/gensim/matutils.py:737: FutureWarning: Conversion of the second argument of issubdtype from `int` to `np.signedinteger` is deprecated. In future, it will be treated as `np.int64 == np.dtype(int).type`.\n",
            "  if np.issubdtype(vec.dtype, np.int):\n"
          ],
          "name": "stderr"
        },
        {
          "output_type": "execute_result",
          "data": {
            "text/plain": [
              "[('genomic', 0.9508098363876343),\n",
              " ('machine_learning', 0.9477699995040894),\n",
              " ('learning', 0.9470158815383911),\n",
              " ('deep', 0.946510910987854),\n",
              " ('learning_product', 0.9328511953353882),\n",
              " ('process_development', 0.9318751692771912),\n",
              " ('deep_learning', 0.9273406863212585),\n",
              " ('intern_machine', 0.9268962740898132),\n",
              " ('big', 0.9184257984161377),\n",
              " ('computer_vision', 0.9179426431655884)]"
            ]
          },
          "metadata": {
            "tags": []
          },
          "execution_count": 35
        }
      ]
    },
    {
      "cell_type": "markdown",
      "metadata": {
        "id": "29-yyu0Gj5B9",
        "colab_type": "text"
      },
      "source": [
        "## Description"
      ]
    },
    {
      "cell_type": "code",
      "metadata": {
        "id": "Bdtfv3ODk2xj",
        "colab_type": "code",
        "colab": {}
      },
      "source": [
        "descr_corpus = df['description'].map(simple_preprocess)\n",
        "descr_bigram = Phraser( Phrases(descr_corpus, min_count=1, threshold=100) )"
      ],
      "execution_count": 0,
      "outputs": []
    },
    {
      "cell_type": "code",
      "metadata": {
        "id": "VBUmZ1FRj_Pa",
        "colab_type": "code",
        "colab": {}
      },
      "source": [
        "#ext_descr_corp = list(prepare_corpus(descr_corpus, descr_bigram))\n",
        "descr_model = Word2Vec(descr_corpus, size=100, window=2, min_count=1)"
      ],
      "execution_count": 0,
      "outputs": []
    },
    {
      "cell_type": "code",
      "metadata": {
        "id": "TUkjYfwPlcg9",
        "colab_type": "code",
        "outputId": "963c80d8-7d0b-4228-ac55-64ee60815362",
        "colab": {
          "base_uri": "https://localhost:8080/",
          "height": 241
        }
      },
      "source": [
        "descr_model.wv.most_similar('nlp')"
      ],
      "execution_count": 0,
      "outputs": [
        {
          "output_type": "stream",
          "text": [
            "/usr/local/lib/python3.6/dist-packages/gensim/matutils.py:737: FutureWarning: Conversion of the second argument of issubdtype from `int` to `np.signedinteger` is deprecated. In future, it will be treated as `np.int64 == np.dtype(int).type`.\n",
            "  if np.issubdtype(vec.dtype, np.int):\n"
          ],
          "name": "stderr"
        },
        {
          "output_type": "execute_result",
          "data": {
            "text/plain": [
              "[('dl', 0.7597562074661255),\n",
              " ('bayesian', 0.7478799223899841),\n",
              " ('hpc', 0.7347403168678284),\n",
              " ('probabilistic', 0.7233866453170776),\n",
              " ('inference', 0.7119289636611938),\n",
              " ('computational', 0.7106078267097473),\n",
              " ('ml', 0.6921568512916565),\n",
              " ('rdbms', 0.691573977470398),\n",
              " ('rendering', 0.6771231889724731),\n",
              " ('econometric', 0.6754754781723022)]"
            ]
          },
          "metadata": {
            "tags": []
          },
          "execution_count": 51
        }
      ]
    },
    {
      "cell_type": "code",
      "metadata": {
        "id": "SIqz1HzCl095",
        "colab_type": "code",
        "outputId": "a624be4b-c7f0-403f-d638-6db2ae94f324",
        "colab": {
          "base_uri": "https://localhost:8080/",
          "height": 717
        }
      },
      "source": [
        "for line in df.sample()['description'].map(literal_eval).values[0]:\n",
        "  print(line)\n",
        "  print(\"\")"
      ],
      "execution_count": 0,
      "outputs": [
        {
          "output_type": "stream",
          "text": [
            "Konica Minolta Business Solutions U.S.A., Inc., a global Fortune 1000 company and one of Forbes 2017 America's Best Large Employers, is transforming the way we all do business. From smart office technology and information management to cloud, mobility and IT services, we have a rich history of creating the products and services necessary to drive innovation and make work possible from anywhere at any time. Our award-winning products and solutions help companies around the world move information faster, improve quality and productivity, enhance security and facilitate the sharing of information. We are proud that our portfolio leads the industry while exceeding environmental standards. At Konica Minolta, you'll work for an amazing technology company with growth opportunities, great benefits and talented, passionate co-workers. Position Objective Konica Minolta currently has an exciting opportunity for you to join us as a Senior Account Executive - Commercial Print Specialist! Essential Job Functions * You will seek out new customers and partner with existing ones by offering a variety of solutions to improve their business and take exceptional care of your clients.\n",
            "\n",
            " You will conduct outbound calling every day to set face-to-face appointments, ensuring outstanding customer service though regular follow-ups, reporting regularly to a branch office.\n",
            "\n",
            " You will establish and strengthen relationships with decision makers for current and potential clients.\n",
            "\n",
            " You will learn and demonstrate the benefits of all Konica Minolta products, services and solutions for clients.\n",
            "\n",
            " You will design and present solutions that will help customers' businesses.\n",
            "\n",
            " You will consistently close sales and achieve monthly activity and revenue goals. Competencies (Knowledge, Skills and Abilities) * You are able to thrive in a dynamic environment; you are driven to succeed and willing to strive to be the best.\n",
            "\n",
            " You bring a high level of energy and are committed to achieve your sales goals.\n",
            "\n",
            " You are tenacious and have a desire to develop and secure new business accounts.\n",
            "\n",
            " You're passionate about growing your industry knowledge as you build your career.\n",
            "\n",
            " You are personable and enjoy networking at all levels to build business relationships. Experience, Educational Reqts and Certifications * Knowledge in the Commercial Print field is preferred.\n",
            "\n",
            " Must have at least four (4) years of business-to-business outside sales experience, selling to clients in the Commercial Print industry OR in the digital imaging solutions or other technology industry.\n",
            "\n",
            " College degree preferred but not required.\n",
            "\n",
            " A valid driver's license and reliable transportation is required! Konica Minolta Offers: * Competitive salary (base salary plus generous commission plan).\n",
            "\n",
            " Strong results are well rewarded; President's Club winners have earned celebratory trips to Miami/South Beach, Montreal, Punta Cana, and Las Vegas.\n",
            "\n",
            " Outstanding benefits package (including medical, dental, vision, life insurance)\n",
            "\n",
            " 401(k) plan with matching company contribution\n",
            "\n",
            " Generous holiday and paid time off schedules\n",
            "\n",
            " Tuition Assistance Program\n",
            "\n",
            " Ongoing professional development training\n",
            "\n",
            " Visible, exciting work supporting sales of cutting edge technology and workflow solutions. Join Konica Minolta and help drive innovation as we transform the Workplace of the Future.™ Konica Minolta is an equal opportunity and affirmative action employer. We consider all qualified applicants for employment without regard to race, color, religion, creed, national origin, sex, pregnancy, age, sexual orientation, transgender status, gender identity, disability, alienage or citizenship status, marital status or partnership status, genetic information, veteran status or any other characteristic protected under applicable law.\n",
            "\n"
          ],
          "name": "stdout"
        }
      ]
    },
    {
      "cell_type": "code",
      "metadata": {
        "id": "qO_KLIN4nxdb",
        "colab_type": "code",
        "colab": {}
      },
      "source": [
        ""
      ],
      "execution_count": 0,
      "outputs": []
    }
  ]
}